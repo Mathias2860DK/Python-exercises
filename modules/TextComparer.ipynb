{
 "cells": [
  {
   "cell_type": "code",
   "execution_count": null,
   "metadata": {},
   "outputs": [],
   "source": [
    "import requests\n",
    "\n",
    "\n",
    "url = 'https://api.github.com/search/repositories?q=language:python&sort=stars'\n",
    "\n",
    "r = requests.get(url)\n",
    "\n",
    "print('URL:\\n',r.url)\n",
    "print('Status code:\\n',r.status_code)\n",
    "print('JSON:\\n',r.json())\n",
    "\n",
    "class TextComparer:\n",
    "    \"\"\"implementation of the iterator protocol with __next__ and __iter__ methods.\n",
    "    __iter__() returns an iterator (normally the object itself)\"\"\"\n",
    "\n",
    "    def __init__(self, url_list):\n",
    "        self.url_list = url_list\n",
    "        \n",
    "    def download(url,filename):\n",
    "        r = requests.get(url)\n",
    "        return r.status_code"
   ]
  }
 ],
 "metadata": {
  "kernelspec": {
   "display_name": "Python 3",
   "language": "python",
   "name": "python3"
  },
  "language_info": {
   "codemirror_mode": {
    "name": "ipython",
    "version": 3
   },
   "file_extension": ".py",
   "mimetype": "text/x-python",
   "name": "python",
   "nbconvert_exporter": "python",
   "pygments_lexer": "ipython3",
   "version": "3.7.6"
  }
 },
 "nbformat": 4,
 "nbformat_minor": 4
}
